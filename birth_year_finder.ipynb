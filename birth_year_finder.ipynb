{
 "metadata": {
  "language_info": {
   "codemirror_mode": {
    "name": "ipython",
    "version": 3
   },
   "file_extension": ".py",
   "mimetype": "text/x-python",
   "name": "python",
   "nbconvert_exporter": "python",
   "pygments_lexer": "ipython3",
   "version": "3.8.8"
  },
  "orig_nbformat": 4,
  "kernelspec": {
   "name": "python3",
   "display_name": "Python 3.8.8 64-bit ('base': conda)"
  },
  "interpreter": {
   "hash": "49b2f1c074e5466fd65c5f92ec87e59863e1a836f730ddb694246742cd3b0821"
  }
 },
 "nbformat": 4,
 "nbformat_minor": 2,
 "cells": [
  {
   "cell_type": "code",
   "execution_count": 8,
   "source": [
    "# This note book tell someone which year they where born\r\n",
    "from datetime import date\r\n",
    "\r\n",
    "today = date.today()\r\n",
    "age = int(input( \"Enter your age here ... \"))\r\n",
    "current_year = int(today.strftime(\"%Y\"))\r\n",
    "birth_year = current_year - age\r\n",
    "print(\"You where born in \" + str(birth_year))\r\n"
   ],
   "outputs": [
    {
     "output_type": "stream",
     "name": "stdout",
     "text": [
      "You where born in 2000\n"
     ]
    }
   ],
   "metadata": {}
  },
  {
   "cell_type": "code",
   "execution_count": null,
   "source": [],
   "outputs": [],
   "metadata": {}
  }
 ]
}